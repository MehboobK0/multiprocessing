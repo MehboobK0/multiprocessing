{
 "cells": [
  {
   "cell_type": "markdown",
   "id": "25dadc74",
   "metadata": {},
   "source": [
    "Q1. Multiprocessing in Python refers to the ability to create and manage multiple processes concurrently. It allows Python programs to utilize multiple CPU cores effectively, enabling parallel execution of tasks and improving overall performance. Multiprocessing is useful for tasks that can be parallelized, such as CPU-bound operations, data processing, and scientific computations.\n",
    "\n",
    "Q2. Differences between multiprocessing and multithreading:\n",
    "\n",
    "Multiprocessing involves the execution of multiple processes concurrently, where each process has its own memory space and runs independently. In contrast, multithreading involves the execution of multiple threads within a single process, sharing the same memory space and resources.\n",
    "Multiprocessing utilizes multiple CPU cores effectively, allowing true parallelism and improved performance, especially for CPU-bound tasks. Multithreading may not fully utilize multiple CPU cores due to the Global Interpreter Lock (GIL) in Python, which restricts concurrent execution of multiple threads.\n",
    "Multiprocessing provides better isolation between processes, reducing the risk of shared memory issues such as race conditions and deadlocks. Multithreading shares memory between threads, making it prone to synchronization issues and thread safety problems."
   ]
  },
  {
   "cell_type": "code",
   "execution_count": 49,
   "id": "fb44f703",
   "metadata": {},
   "outputs": [],
   "source": [
    "# Q3. Python code to create a process using the multiprocessing module:\n",
    "\n",
    "\n",
    "import multiprocessing\n",
    "\n",
    "def my_function():\n",
    "    print(\"This is a process\")\n",
    "\n",
    "if __name__ == \"__main__\":\n",
    "    process = multiprocessing.Process(target=my_function)\n",
    "    process.start()\n",
    "    process.join()"
   ]
  },
  {
   "cell_type": "markdown",
   "id": "36ca0ba4",
   "metadata": {},
   "source": [
    "Q4. A multiprocessing pool in Python is a high-level abstraction provided by the multiprocessing module for managing a pool of worker processes. It is used to distribute tasks across multiple processes efficiently, allowing concurrent execution of multiple tasks in parallel. Multiprocessing pools are particularly useful for parallelizing tasks such as parallel computing, parallel I/O operations, and parallel processing of data.\n",
    "\n"
   ]
  },
  {
   "cell_type": "code",
   "execution_count": null,
   "id": "1e8a1b9f",
   "metadata": {},
   "outputs": [],
   "source": [
    "Q5. To create a pool of worker processes in Python using the multiprocessing module, you can use the Pool class. Here's an example:\n",
    "\n",
    "\n",
    "import multiprocessing\n",
    "\n",
    "def my_function(x):\n",
    "    return x * x\n",
    "\n",
    "if __name__ == \"__main__\":\n",
    "    with multiprocessing.Pool(processes=4) as pool:\n",
    "        result = pool.map(my_function, [1, 2, 3, 4])\n",
    "        print(result)"
   ]
  },
  {
   "cell_type": "code",
   "execution_count": null,
   "id": "47d972cc",
   "metadata": {},
   "outputs": [],
   "source": [
    "# Q6. Python program to create 4 processes, each printing a different number using the multiprocessing module:\n",
    "\n",
    "\n",
    "import multiprocessing\n",
    "\n",
    "def print_number(number):\n",
    "    print(f\"Process {number}: {number}\")\n",
    "\n",
    "if __name__ == \"__main__\":\n",
    "    processes = []\n",
    "    for i in range(1, 5):\n",
    "        process = multiprocessing.Process(target=print_number, args=(i,))\n",
    "        processes.append(process)\n",
    "        process.start()\n",
    "    \n",
    "    for process in processes:\n",
    "        process.join()"
   ]
  },
  {
   "cell_type": "code",
   "execution_count": null,
   "id": "62afd48e",
   "metadata": {},
   "outputs": [],
   "source": []
  }
 ],
 "metadata": {
  "kernelspec": {
   "display_name": "Python 3 (ipykernel)",
   "language": "python",
   "name": "python3"
  },
  "language_info": {
   "codemirror_mode": {
    "name": "ipython",
    "version": 3
   },
   "file_extension": ".py",
   "mimetype": "text/x-python",
   "name": "python",
   "nbconvert_exporter": "python",
   "pygments_lexer": "ipython3",
   "version": "3.9.12"
  }
 },
 "nbformat": 4,
 "nbformat_minor": 5
}
